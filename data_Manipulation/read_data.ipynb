{
 "cells": [
  {
   "cell_type": "code",
   "execution_count": null,
   "id": "27921258",
   "metadata": {},
   "outputs": [],
   "source": [
    "import pandas as pd\n",
    "import numpy as np\n",
    "import requests\n",
    "from PIL import Image, ImageSequence\n",
    "from io import BytesIO\n",
    "import matplotlib.pyplot as plt\n",
    "from IPython.display import Image as IPyImage, display\n",
    "import imageio.v2 as imageio\n",
    "from tqdm import tqdm\n",
    "from IPython.display import HTML\n",
    "from concurrent.futures import ThreadPoolExecutor, as_completed\n",
    "import imageio"
   ]
  },
  {
   "cell_type": "code",
   "execution_count": 2,
   "id": "8fb55644",
   "metadata": {},
   "outputs": [
    {
     "data": {
      "text/html": [
       "<div>\n",
       "<style scoped>\n",
       "    .dataframe tbody tr th:only-of-type {\n",
       "        vertical-align: middle;\n",
       "    }\n",
       "\n",
       "    .dataframe tbody tr th {\n",
       "        vertical-align: top;\n",
       "    }\n",
       "\n",
       "    .dataframe thead th {\n",
       "        text-align: right;\n",
       "    }\n",
       "</style>\n",
       "<table border=\"1\" class=\"dataframe\">\n",
       "  <thead>\n",
       "    <tr style=\"text-align: right;\">\n",
       "      <th></th>\n",
       "      <th>url</th>\n",
       "      <th>caption</th>\n",
       "    </tr>\n",
       "  </thead>\n",
       "  <tbody>\n",
       "    <tr>\n",
       "      <th>0</th>\n",
       "      <td>https://38.media.tumblr.com/9f6c25cc350f12aa74...</td>\n",
       "      <td>a man is glaring, and someone with sunglasses ...</td>\n",
       "    </tr>\n",
       "    <tr>\n",
       "      <th>1</th>\n",
       "      <td>https://38.media.tumblr.com/9ead028ef62004ef6a...</td>\n",
       "      <td>a cat tries to catch a mouse on a tablet</td>\n",
       "    </tr>\n",
       "    <tr>\n",
       "      <th>2</th>\n",
       "      <td>https://38.media.tumblr.com/9f43dc410be85b1159...</td>\n",
       "      <td>a man dressed in red is dancing.</td>\n",
       "    </tr>\n",
       "    <tr>\n",
       "      <th>3</th>\n",
       "      <td>https://38.media.tumblr.com/9f659499c8754e40cf...</td>\n",
       "      <td>an animal comes close to another in the jungle</td>\n",
       "    </tr>\n",
       "    <tr>\n",
       "      <th>4</th>\n",
       "      <td>https://38.media.tumblr.com/9ed1c99afa7d714118...</td>\n",
       "      <td>a man in a hat adjusts his tie and makes a wei...</td>\n",
       "    </tr>\n",
       "  </tbody>\n",
       "</table>\n",
       "</div>"
      ],
      "text/plain": [
       "                                                 url  \\\n",
       "0  https://38.media.tumblr.com/9f6c25cc350f12aa74...   \n",
       "1  https://38.media.tumblr.com/9ead028ef62004ef6a...   \n",
       "2  https://38.media.tumblr.com/9f43dc410be85b1159...   \n",
       "3  https://38.media.tumblr.com/9f659499c8754e40cf...   \n",
       "4  https://38.media.tumblr.com/9ed1c99afa7d714118...   \n",
       "\n",
       "                                             caption  \n",
       "0  a man is glaring, and someone with sunglasses ...  \n",
       "1           a cat tries to catch a mouse on a tablet  \n",
       "2                   a man dressed in red is dancing.  \n",
       "3     an animal comes close to another in the jungle  \n",
       "4  a man in a hat adjusts his tie and makes a wei...  "
      ]
     },
     "execution_count": 2,
     "metadata": {},
     "output_type": "execute_result"
    }
   ],
   "source": [
    "data = pd.read_csv(\"/Users/ishananand/Desktop/Text-To-Video-Generation/data/tgif-v1.0.tsv\", sep='\\t', header=None, names=['url', 'caption'])\n",
    "data.head()"
   ]
  },
  {
   "cell_type": "code",
   "execution_count": 3,
   "id": "ad3562ed",
   "metadata": {},
   "outputs": [],
   "source": [
    "data['frames'] = 0"
   ]
  },
  {
   "cell_type": "code",
   "execution_count": 4,
   "id": "3fa59d03",
   "metadata": {},
   "outputs": [
    {
     "data": {
      "text/html": [
       "<div>\n",
       "<style scoped>\n",
       "    .dataframe tbody tr th:only-of-type {\n",
       "        vertical-align: middle;\n",
       "    }\n",
       "\n",
       "    .dataframe tbody tr th {\n",
       "        vertical-align: top;\n",
       "    }\n",
       "\n",
       "    .dataframe thead th {\n",
       "        text-align: right;\n",
       "    }\n",
       "</style>\n",
       "<table border=\"1\" class=\"dataframe\">\n",
       "  <thead>\n",
       "    <tr style=\"text-align: right;\">\n",
       "      <th></th>\n",
       "      <th>url</th>\n",
       "      <th>caption</th>\n",
       "      <th>frames</th>\n",
       "    </tr>\n",
       "  </thead>\n",
       "  <tbody>\n",
       "    <tr>\n",
       "      <th>0</th>\n",
       "      <td>https://38.media.tumblr.com/9f6c25cc350f12aa74...</td>\n",
       "      <td>a man is glaring, and someone with sunglasses ...</td>\n",
       "      <td>0</td>\n",
       "    </tr>\n",
       "    <tr>\n",
       "      <th>1</th>\n",
       "      <td>https://38.media.tumblr.com/9ead028ef62004ef6a...</td>\n",
       "      <td>a cat tries to catch a mouse on a tablet</td>\n",
       "      <td>0</td>\n",
       "    </tr>\n",
       "    <tr>\n",
       "      <th>2</th>\n",
       "      <td>https://38.media.tumblr.com/9f43dc410be85b1159...</td>\n",
       "      <td>a man dressed in red is dancing.</td>\n",
       "      <td>0</td>\n",
       "    </tr>\n",
       "    <tr>\n",
       "      <th>3</th>\n",
       "      <td>https://38.media.tumblr.com/9f659499c8754e40cf...</td>\n",
       "      <td>an animal comes close to another in the jungle</td>\n",
       "      <td>0</td>\n",
       "    </tr>\n",
       "    <tr>\n",
       "      <th>4</th>\n",
       "      <td>https://38.media.tumblr.com/9ed1c99afa7d714118...</td>\n",
       "      <td>a man in a hat adjusts his tie and makes a wei...</td>\n",
       "      <td>0</td>\n",
       "    </tr>\n",
       "  </tbody>\n",
       "</table>\n",
       "</div>"
      ],
      "text/plain": [
       "                                                 url  \\\n",
       "0  https://38.media.tumblr.com/9f6c25cc350f12aa74...   \n",
       "1  https://38.media.tumblr.com/9ead028ef62004ef6a...   \n",
       "2  https://38.media.tumblr.com/9f43dc410be85b1159...   \n",
       "3  https://38.media.tumblr.com/9f659499c8754e40cf...   \n",
       "4  https://38.media.tumblr.com/9ed1c99afa7d714118...   \n",
       "\n",
       "                                             caption  frames  \n",
       "0  a man is glaring, and someone with sunglasses ...       0  \n",
       "1           a cat tries to catch a mouse on a tablet       0  \n",
       "2                   a man dressed in red is dancing.       0  \n",
       "3     an animal comes close to another in the jungle       0  \n",
       "4  a man in a hat adjusts his tie and makes a wei...       0  "
      ]
     },
     "execution_count": 4,
     "metadata": {},
     "output_type": "execute_result"
    }
   ],
   "source": [
    "data.head()"
   ]
  },
  {
   "cell_type": "code",
   "execution_count": 5,
   "id": "80d00cb3",
   "metadata": {},
   "outputs": [
    {
     "data": {
      "text/plain": [
       "(125782, 3)"
      ]
     },
     "execution_count": 5,
     "metadata": {},
     "output_type": "execute_result"
    }
   ],
   "source": [
    "data.shape"
   ]
  },
  {
   "cell_type": "code",
   "execution_count": 6,
   "id": "d43eadc3",
   "metadata": {},
   "outputs": [
    {
     "data": {
      "text/html": [
       "<img src=\"https://38.media.tumblr.com/9f6c25cc350f12aa74a7dc386a5c4985/tumblr_mevmyaKtDf1rgvhr8o1_500.gif\" />"
      ],
      "text/plain": [
       "<IPython.core.display.HTML object>"
      ]
     },
     "execution_count": 6,
     "metadata": {},
     "output_type": "execute_result"
    }
   ],
   "source": [
    "rl = data['url'][0]\n",
    "resp = requests.get(rl)\n",
    "img = Image.open(BytesIO(resp.content))\n",
    "HTML(f'<img src=\"{rl}\" />')\n"
   ]
  },
  {
   "cell_type": "code",
   "execution_count": null,
   "id": "c342b3d4",
   "metadata": {},
   "outputs": [
    {
     "name": "stderr",
     "output_type": "stream",
     "text": [
      "Processing URLs: 100%|██████████| 125782/125782 [46:27<00:00, 45.13it/s] \n"
     ]
    }
   ],
   "source": [
    "invalid_urls = []\n",
    "\n",
    "def process_url(i, url):\n",
    "    try:\n",
    "        resp = requests.get(url, timeout=10)\n",
    "        if resp.status_code != 200:\n",
    "            return i, None\n",
    "        gif = imageio.mimread(BytesIO(resp.content))\n",
    "        return i, len(gif)\n",
    "    except Exception:\n",
    "        return i, None\n",
    "\n",
    "results = []\n",
    "with ThreadPoolExecutor(max_workers=80) as executor:\n",
    "    futures = {executor.submit(process_url, i, url): i for i, url in enumerate(data['url'])}\n",
    "    for future in tqdm(as_completed(futures), total=len(futures), desc=\"Processing URLs\"):\n",
    "        i, frame_count = future.result()\n",
    "        if frame_count is None:\n",
    "            invalid_urls.append(i)\n",
    "        else:\n",
    "            data.loc[i, \"frames\"] = frame_count\n"
   ]
  },
  {
   "cell_type": "code",
   "execution_count": null,
   "id": "38e886ac",
   "metadata": {},
   "outputs": [],
   "source": [
    "data.drop(index=invalid_urls, inplace=True)\n",
    "data.to_csv(\"/Users/ishananand/Desktop/Text-To-Video-Generation/data/modified_tgif.csv\", index=False, columns = ['url', 'caption', 'frames'])"
   ]
  },
  {
   "cell_type": "code",
   "execution_count": 33,
   "id": "e6e5f6af",
   "metadata": {},
   "outputs": [
    {
     "data": {
      "text/plain": [
       "99"
      ]
     },
     "execution_count": 33,
     "metadata": {},
     "output_type": "execute_result"
    }
   ],
   "source": [
    "len(invalid_urls)"
   ]
  },
  {
   "cell_type": "code",
   "execution_count": 29,
   "id": "2fc12391",
   "metadata": {},
   "outputs": [
    {
     "data": {
      "text/plain": [
       "30"
      ]
     },
     "execution_count": 29,
     "metadata": {},
     "output_type": "execute_result"
    }
   ],
   "source": [
    "\n",
    "resp = requests.get(df['url'][12946], timeout=10)\n",
    "gif = imageio.mimread(BytesIO(resp.content))\n",
    "len(gif)"
   ]
  },
  {
   "cell_type": "code",
   "execution_count": 30,
   "id": "639a37b6",
   "metadata": {},
   "outputs": [
    {
     "data": {
      "text/html": [
       "<img src=\"https://38.media.tumblr.com/9ead028ef62004ef6ac2b92e52edd210/tumblr_nok4eeONTv1s2yegdo1_400.gif\" />"
      ],
      "text/plain": [
       "<IPython.core.display.HTML object>"
      ]
     },
     "execution_count": 30,
     "metadata": {},
     "output_type": "execute_result"
    }
   ],
   "source": [
    "df = pd.read_csv(\"/Users/ishananand/Desktop/Text-To-Video-Generation/data/modified_tgif.csv\")\n",
    "HTML(f'<img src=\"{df['url'][1]}\" />')\n"
   ]
  },
  {
   "cell_type": "code",
   "execution_count": 32,
   "id": "014c67d6",
   "metadata": {},
   "outputs": [
    {
     "data": {
      "text/plain": [
       "(80387, 3)"
      ]
     },
     "execution_count": 32,
     "metadata": {},
     "output_type": "execute_result"
    }
   ],
   "source": [
    "data[data['frames'] <= 40].shape"
   ]
  },
  {
   "cell_type": "code",
   "execution_count": null,
   "id": "e08de7eb",
   "metadata": {},
   "outputs": [],
   "source": []
  },
  {
   "cell_type": "code",
   "execution_count": 17,
   "id": "8fab64c8",
   "metadata": {},
   "outputs": [
    {
     "data": {
      "text/plain": [
       "12949    https://38.media.tumblr.com/61e04161c76a2f3bd1...\n",
       "Name: url, dtype: object"
      ]
     },
     "execution_count": 17,
     "metadata": {},
     "output_type": "execute_result"
    }
   ],
   "source": [
    "data['frames'].max()\n",
    "data[data['frames'] == 572]['url']"
   ]
  },
  {
   "cell_type": "code",
   "execution_count": null,
   "id": "e40c7714",
   "metadata": {},
   "outputs": [
    {
     "data": {
      "text/html": [
       "<img src=\"12949    https://38.media.tumblr.com/61e04161c76a2f3bd1...\n",
       "Name: url, dtype: object\" />"
      ],
      "text/plain": [
       "<IPython.core.display.HTML object>"
      ]
     },
     "execution_count": 18,
     "metadata": {},
     "output_type": "execute_result"
    }
   ],
   "source": [
    "HTML(f'<img src=\"{data[data['frames'] == 572]['url']}\" />')"
   ]
  },
  {
   "cell_type": "code",
   "execution_count": 109,
   "id": "b2ecf249",
   "metadata": {},
   "outputs": [
    {
     "name": "stdout",
     "output_type": "stream",
     "text": [
      "Loaded 18 frames from GIF\n"
     ]
    }
   ],
   "source": [
    "gif = imageio.mimread(BytesIO(resp.content))\n",
    "print(f\"Loaded {len(gif)} frames from GIF\")"
   ]
  },
  {
   "cell_type": "code",
   "execution_count": 100,
   "id": "5fa0fd8f",
   "metadata": {},
   "outputs": [
    {
     "data": {
      "text/plain": [
       "(243, 500, 4)"
      ]
     },
     "execution_count": 100,
     "metadata": {},
     "output_type": "execute_result"
    }
   ],
   "source": [
    "img = np.array(img)\n",
    "img.shape"
   ]
  },
  {
   "cell_type": "code",
   "execution_count": 96,
   "id": "49917c68",
   "metadata": {},
   "outputs": [
    {
     "data": {
      "text/plain": [
       "array([[  7,   5,   5, 255],\n",
       "       [  0,   0,   0, 255],\n",
       "       [  3,   3,   2, 255],\n",
       "       ...,\n",
       "       [ 58,  53,  49, 255],\n",
       "       [ 53,  46,  45, 255],\n",
       "       [ 77,  72,  67, 255]], shape=(500, 4), dtype=uint8)"
      ]
     },
     "execution_count": 96,
     "metadata": {},
     "output_type": "execute_result"
    }
   ],
   "source": [
    "img"
   ]
  },
  {
   "cell_type": "code",
   "execution_count": null,
   "id": "6dcf9722",
   "metadata": {},
   "outputs": [],
   "source": []
  }
 ],
 "metadata": {
  "kernelspec": {
   "display_name": "pytorch_env",
   "language": "python",
   "name": "python3"
  },
  "language_info": {
   "codemirror_mode": {
    "name": "ipython",
    "version": 3
   },
   "file_extension": ".py",
   "mimetype": "text/x-python",
   "name": "python",
   "nbconvert_exporter": "python",
   "pygments_lexer": "ipython3",
   "version": "3.13.3"
  }
 },
 "nbformat": 4,
 "nbformat_minor": 5
}
