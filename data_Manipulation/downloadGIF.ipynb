{
 "cells": [
  {
   "cell_type": "code",
   "execution_count": 25,
   "id": "05408f45-8309-459e-ae68-ac138cd9743a",
   "metadata": {},
   "outputs": [],
   "source": [
    "import pandas as pd\n",
    "import numpy as np\n",
    "import os\n",
    "import urllib"
   ]
  },
  {
   "cell_type": "code",
   "execution_count": 26,
   "id": "2220c90c-641b-4bb4-ad04-2313b7aeb3f0",
   "metadata": {},
   "outputs": [
    {
     "name": "stdout",
     "output_type": "stream",
     "text": [
      "(78568, 3)\n"
     ]
    }
   ],
   "source": [
    "dataset = pd.read_csv(\"./data/modified_tgif.csv\")\n",
    "dataset = dataset[(dataset['frames'] <= 40) & (dataset['frames'] > 15)].copy().reset_index(drop=True)\n",
    "print(dataset.shape)"
   ]
  },
  {
   "cell_type": "code",
   "execution_count": 29,
   "id": "92b6dfa7-c9ee-4159-b655-f6c0e9a798ab",
   "metadata": {},
   "outputs": [
    {
     "data": {
      "text/plain": [
       "False"
      ]
     },
     "execution_count": 29,
     "metadata": {},
     "output_type": "execute_result"
    }
   ],
   "source": [
    "GIFPATH = './data/cachedData'\n",
    "os.path.exists(GIFPATH)"
   ]
  },
  {
   "cell_type": "code",
   "execution_count": null,
   "id": "9053ac55-56ec-4a2d-8914-813c060eb82b",
   "metadata": {},
   "outputs": [],
   "source": [
    "def saveFile(data, index):\n",
    "    os.makedirs(GIFPATH, exist_ok=True)\n",
    "\n",
    "    row = data.iloc[index]\n",
    "    url = row['url']\n",
    "    caption = row['caption']\n",
    "    totalframes = row['frames']\n",
    "\n",
    "    gif_path = os.path.join(GIFPATH, f'{index}.gif')\n",
    "    \n",
    "    if not os.path.exists(gif_path):\n",
    "        try:\n",
    "            resp = urllib.request.urlopen(url)\n",
    "            image_data = resp.read()\n",
    "            with open(gif_path, 'wb') as f:\n",
    "                f.write(image_data)\n",
    "        except Exception as e:\n",
    "            print(f\"Failed bhai at {index}: {e}\")\n",
    "    else:\n",
    "        try:\n",
    "            with open(gif_path, 'rb') as f:\n",
    "                image_data = f.read()\n",
    "        except Exception as e:\n",
    "            print(f\"Failed bhai at reading {index}: {e}\")\n",
    "\n",
    "count = 0\n",
    "for i in range(dataset.shape[0]):\n",
    "    # print(dataset.iloc[i])\n",
    "    saveFile(dataset, i)\n",
    "    count += 1\n",
    "    if count % 10000 == 0:\n",
    "        print(f\"{count} Files are completed\")\n"
   ]
  },
  {
   "cell_type": "code",
   "execution_count": null,
   "id": "47c5e738-63b6-4ef3-b5bd-c8c0f8e8dad4",
   "metadata": {},
   "outputs": [],
   "source": []
  },
  {
   "cell_type": "code",
   "execution_count": null,
   "id": "741907d3-1e85-47b6-b984-4001665bc437",
   "metadata": {},
   "outputs": [],
   "source": []
  }
 ],
 "metadata": {
  "kernelspec": {
   "display_name": "Python 3 (ipykernel)",
   "language": "python",
   "name": "python3"
  },
  "language_info": {
   "codemirror_mode": {
    "name": "ipython",
    "version": 3
   },
   "file_extension": ".py",
   "mimetype": "text/x-python",
   "name": "python",
   "nbconvert_exporter": "python",
   "pygments_lexer": "ipython3",
   "version": "3.11.9"
  }
 },
 "nbformat": 4,
 "nbformat_minor": 5
}
