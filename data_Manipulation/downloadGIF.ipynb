{
 "cells": [
  {
   "cell_type": "code",
   "execution_count": 1,
   "id": "05408f45-8309-459e-ae68-ac138cd9743a",
   "metadata": {},
   "outputs": [],
   "source": [
    "import pandas as pd\n",
    "import numpy as np\n",
    "import os\n",
    "import urllib"
   ]
  },
  {
   "cell_type": "code",
   "execution_count": 3,
   "id": "2220c90c-641b-4bb4-ad04-2313b7aeb3f0",
   "metadata": {},
   "outputs": [
    {
     "name": "stdout",
     "output_type": "stream",
     "text": [
      "(78568, 3)\n"
     ]
    }
   ],
   "source": [
    "dataset = pd.read_csv(\"/Users/ishananand/Desktop/Text-To-Video-Generation/data/modified_tgif.csv\")\n",
    "dataset = dataset[(dataset['frames'] <= 40) & (dataset['frames'] > 15)].copy().reset_index(drop=True)\n",
    "print(dataset.shape)"
   ]
  },
  {
   "cell_type": "code",
   "execution_count": 5,
   "id": "183441cf-13c8-40f3-abd8-787258f4905a",
   "metadata": {},
   "outputs": [
    {
     "name": "stdout",
     "output_type": "stream",
     "text": [
      "Cummulative Dataset Shape: (10000, 3)\n"
     ]
    }
   ],
   "source": [
    "# threads = []\n",
    "# i = 0\n",
    "# while i < dataset.shape[0]:\n",
    "#     threads.append(dataset[i:i+10000])\n",
    "#     i = i + 10000\n",
    "\n",
    "# cummulativeIndices = []\n",
    "\n",
    "# for i in range(len(threads)):\n",
    "#     indices = threads[i].index[threads[i]['frames'] > 35].tolist()\n",
    "#     cummulativeIndices.extend(indices)\n",
    "\n",
    "# print(len(cummulativeIndices))\n",
    "cummulativeData = dataset[:10000]#dataset.loc[cummulativeIndices]\n",
    "print(f\"Cummulative Dataset Shape: {cummulativeData.shape}\")\n"
   ]
  },
  {
   "cell_type": "code",
   "execution_count": 6,
   "id": "6bdeb2b3-1dde-448e-9b30-821edb54e26b",
   "metadata": {},
   "outputs": [
    {
     "data": {
      "text/html": [
       "<div>\n",
       "<style scoped>\n",
       "    .dataframe tbody tr th:only-of-type {\n",
       "        vertical-align: middle;\n",
       "    }\n",
       "\n",
       "    .dataframe tbody tr th {\n",
       "        vertical-align: top;\n",
       "    }\n",
       "\n",
       "    .dataframe thead th {\n",
       "        text-align: right;\n",
       "    }\n",
       "</style>\n",
       "<table border=\"1\" class=\"dataframe\">\n",
       "  <thead>\n",
       "    <tr style=\"text-align: right;\">\n",
       "      <th></th>\n",
       "      <th>url</th>\n",
       "      <th>caption</th>\n",
       "      <th>frames</th>\n",
       "    </tr>\n",
       "  </thead>\n",
       "  <tbody>\n",
       "    <tr>\n",
       "      <th>0</th>\n",
       "      <td>https://38.media.tumblr.com/9f6c25cc350f12aa74...</td>\n",
       "      <td>a man is glaring, and someone with sunglasses ...</td>\n",
       "      <td>18</td>\n",
       "    </tr>\n",
       "    <tr>\n",
       "      <th>1</th>\n",
       "      <td>https://38.media.tumblr.com/9f43dc410be85b1159...</td>\n",
       "      <td>a man dressed in red is dancing.</td>\n",
       "      <td>22</td>\n",
       "    </tr>\n",
       "    <tr>\n",
       "      <th>2</th>\n",
       "      <td>https://38.media.tumblr.com/9ed1c99afa7d714118...</td>\n",
       "      <td>a man in a hat adjusts his tie and makes a wei...</td>\n",
       "      <td>16</td>\n",
       "    </tr>\n",
       "    <tr>\n",
       "      <th>3</th>\n",
       "      <td>https://38.media.tumblr.com/9e4ab65c0e7d4bb8aa...</td>\n",
       "      <td>a brunette woman is looking at the man</td>\n",
       "      <td>22</td>\n",
       "    </tr>\n",
       "    <tr>\n",
       "      <th>4</th>\n",
       "      <td>https://38.media.tumblr.com/9ecd3483028290171d...</td>\n",
       "      <td>a man on a bicycle is jumping over a fence.</td>\n",
       "      <td>30</td>\n",
       "    </tr>\n",
       "  </tbody>\n",
       "</table>\n",
       "</div>"
      ],
      "text/plain": [
       "                                                 url  \\\n",
       "0  https://38.media.tumblr.com/9f6c25cc350f12aa74...   \n",
       "1  https://38.media.tumblr.com/9f43dc410be85b1159...   \n",
       "2  https://38.media.tumblr.com/9ed1c99afa7d714118...   \n",
       "3  https://38.media.tumblr.com/9e4ab65c0e7d4bb8aa...   \n",
       "4  https://38.media.tumblr.com/9ecd3483028290171d...   \n",
       "\n",
       "                                             caption  frames  \n",
       "0  a man is glaring, and someone with sunglasses ...      18  \n",
       "1                   a man dressed in red is dancing.      22  \n",
       "2  a man in a hat adjusts his tie and makes a wei...      16  \n",
       "3             a brunette woman is looking at the man      22  \n",
       "4        a man on a bicycle is jumping over a fence.      30  "
      ]
     },
     "execution_count": 6,
     "metadata": {},
     "output_type": "execute_result"
    }
   ],
   "source": [
    "cummulativeData.head()"
   ]
  },
  {
   "cell_type": "code",
   "execution_count": 7,
   "id": "5dbaf505-7886-4dc6-857a-410bd4b1d841",
   "metadata": {},
   "outputs": [
    {
     "data": {
      "text/html": [
       "<div>\n",
       "<style scoped>\n",
       "    .dataframe tbody tr th:only-of-type {\n",
       "        vertical-align: middle;\n",
       "    }\n",
       "\n",
       "    .dataframe tbody tr th {\n",
       "        vertical-align: top;\n",
       "    }\n",
       "\n",
       "    .dataframe thead th {\n",
       "        text-align: right;\n",
       "    }\n",
       "</style>\n",
       "<table border=\"1\" class=\"dataframe\">\n",
       "  <thead>\n",
       "    <tr style=\"text-align: right;\">\n",
       "      <th></th>\n",
       "      <th>url</th>\n",
       "      <th>caption</th>\n",
       "      <th>frames</th>\n",
       "    </tr>\n",
       "  </thead>\n",
       "  <tbody>\n",
       "    <tr>\n",
       "      <th>0</th>\n",
       "      <td>https://38.media.tumblr.com/9f6c25cc350f12aa74...</td>\n",
       "      <td>a man is glaring, and someone with sunglasses ...</td>\n",
       "      <td>18</td>\n",
       "    </tr>\n",
       "    <tr>\n",
       "      <th>1</th>\n",
       "      <td>https://38.media.tumblr.com/9f43dc410be85b1159...</td>\n",
       "      <td>a man dressed in red is dancing.</td>\n",
       "      <td>22</td>\n",
       "    </tr>\n",
       "    <tr>\n",
       "      <th>2</th>\n",
       "      <td>https://38.media.tumblr.com/9ed1c99afa7d714118...</td>\n",
       "      <td>a man in a hat adjusts his tie and makes a wei...</td>\n",
       "      <td>16</td>\n",
       "    </tr>\n",
       "    <tr>\n",
       "      <th>3</th>\n",
       "      <td>https://38.media.tumblr.com/9e4ab65c0e7d4bb8aa...</td>\n",
       "      <td>a brunette woman is looking at the man</td>\n",
       "      <td>22</td>\n",
       "    </tr>\n",
       "    <tr>\n",
       "      <th>4</th>\n",
       "      <td>https://38.media.tumblr.com/9ecd3483028290171d...</td>\n",
       "      <td>a man on a bicycle is jumping over a fence.</td>\n",
       "      <td>30</td>\n",
       "    </tr>\n",
       "  </tbody>\n",
       "</table>\n",
       "</div>"
      ],
      "text/plain": [
       "                                                 url  \\\n",
       "0  https://38.media.tumblr.com/9f6c25cc350f12aa74...   \n",
       "1  https://38.media.tumblr.com/9f43dc410be85b1159...   \n",
       "2  https://38.media.tumblr.com/9ed1c99afa7d714118...   \n",
       "3  https://38.media.tumblr.com/9e4ab65c0e7d4bb8aa...   \n",
       "4  https://38.media.tumblr.com/9ecd3483028290171d...   \n",
       "\n",
       "                                             caption  frames  \n",
       "0  a man is glaring, and someone with sunglasses ...      18  \n",
       "1                   a man dressed in red is dancing.      22  \n",
       "2  a man in a hat adjusts his tie and makes a wei...      16  \n",
       "3             a brunette woman is looking at the man      22  \n",
       "4        a man on a bicycle is jumping over a fence.      30  "
      ]
     },
     "execution_count": 7,
     "metadata": {},
     "output_type": "execute_result"
    }
   ],
   "source": [
    "cummulativeData = cummulativeData.reset_index(drop=True)\n",
    "cummulativeData.head()"
   ]
  },
  {
   "cell_type": "code",
   "execution_count": 9,
   "id": "92b6dfa7-c9ee-4159-b655-f6c0e9a798ab",
   "metadata": {},
   "outputs": [
    {
     "data": {
      "text/plain": [
       "True"
      ]
     },
     "execution_count": 9,
     "metadata": {},
     "output_type": "execute_result"
    }
   ],
   "source": [
    "GIFPATH = '/Users/ishananand/Desktop/Text-To-Video-Generation/data/cacheGIF'\n",
    "os.path.exists(GIFPATH)"
   ]
  },
  {
   "cell_type": "code",
   "execution_count": null,
   "id": "9053ac55-56ec-4a2d-8914-813c060eb82b",
   "metadata": {},
   "outputs": [
    {
     "name": "stdout",
     "output_type": "stream",
     "text": [
      "1000 Files are completed\n",
      "2000 Files are completed\n",
      "3000 Files are completed\n",
      "4000 Files are completed\n",
      "5000 Files are completed\n",
      "6000 Files are completed\n",
      "7000 Files are completed\n"
     ]
    }
   ],
   "source": [
    "def saveFile(data, index):\n",
    "    os.makedirs(GIFPATH, exist_ok=True)\n",
    "\n",
    "    row = data.iloc[index]\n",
    "    url = row['url']\n",
    "    caption = row['caption']\n",
    "    totalframes = row['frames']\n",
    "\n",
    "    gif_path = os.path.join(GIFPATH, f'{index}.gif')\n",
    "    \n",
    "    if not os.path.exists(gif_path):\n",
    "        try:\n",
    "            resp = urllib.request.urlopen(url)\n",
    "            image_data = resp.read()\n",
    "            with open(gif_path, 'wb') as f:\n",
    "                f.write(image_data)\n",
    "        except Exception as e:\n",
    "            print(f\"Failed bhai at {index}: {e}\")\n",
    "    else:\n",
    "        pass\n",
    "        # try:\n",
    "        #     with open(gif_path, 'rb') as f:\n",
    "        #         image_data = f.read()\n",
    "        # except Exception as e:\n",
    "        #     print(f\"Failed bhai at reading {index}: {e}\")\n",
    "\n",
    "count = 0\n",
    "for i in range(cummulativeData.shape[0]):\n",
    "    # print(dataset.iloc[i])\n",
    "    saveFile(cummulativeData, i)\n",
    "    count += 1\n",
    "    if count % 1000 == 0:\n",
    "        print(f\"{count} Files are completed\")\n"
   ]
  },
  {
   "cell_type": "code",
   "execution_count": 8,
   "id": "47c5e738-63b6-4ef3-b5bd-c8c0f8e8dad4",
   "metadata": {},
   "outputs": [],
   "source": [
    "saveFile(cummulativeData, 10437)\n",
    "saveFile(cummulativeData, 11875)"
   ]
  },
  {
   "cell_type": "code",
   "execution_count": 10,
   "id": "741907d3-1e85-47b6-b984-4001665bc437",
   "metadata": {},
   "outputs": [
    {
     "data": {
      "text/plain": [
       "13104"
      ]
     },
     "execution_count": 10,
     "metadata": {},
     "output_type": "execute_result"
    }
   ],
   "source": [
    "len(os.listdir(GIFPATH))"
   ]
  },
  {
   "cell_type": "code",
   "execution_count": null,
   "id": "822f57df-eb99-458a-9dee-96c489b8516a",
   "metadata": {},
   "outputs": [],
   "source": []
  }
 ],
 "metadata": {
  "kernelspec": {
   "display_name": "pytorch_env",
   "language": "python",
   "name": "python3"
  },
  "language_info": {
   "codemirror_mode": {
    "name": "ipython",
    "version": 3
   },
   "file_extension": ".py",
   "mimetype": "text/x-python",
   "name": "python",
   "nbconvert_exporter": "python",
   "pygments_lexer": "ipython3",
   "version": "3.13.3"
  }
 },
 "nbformat": 4,
 "nbformat_minor": 5
}
