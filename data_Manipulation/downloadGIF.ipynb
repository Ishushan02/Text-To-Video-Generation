{
 "cells": [
  {
   "cell_type": "code",
   "execution_count": 1,
   "id": "05408f45-8309-459e-ae68-ac138cd9743a",
   "metadata": {},
   "outputs": [],
   "source": [
    "import pandas as pd\n",
    "import numpy as np\n",
    "import os\n",
    "import urllib"
   ]
  },
  {
   "cell_type": "code",
   "execution_count": 2,
   "id": "2220c90c-641b-4bb4-ad04-2313b7aeb3f0",
   "metadata": {},
   "outputs": [
    {
     "name": "stdout",
     "output_type": "stream",
     "text": [
      "(78568, 3)\n"
     ]
    }
   ],
   "source": [
    "dataset = pd.read_csv(\"./data/modified_tgif.csv\")\n",
    "dataset = dataset[(dataset['frames'] <= 40) & (dataset['frames'] > 15)].copy().reset_index(drop=True)\n",
    "print(dataset.shape)"
   ]
  },
  {
   "cell_type": "code",
   "execution_count": 3,
   "id": "183441cf-13c8-40f3-abd8-787258f4905a",
   "metadata": {},
   "outputs": [
    {
     "name": "stdout",
     "output_type": "stream",
     "text": [
      "Cummulative Dataset Shape: (13104, 3)\n"
     ]
    }
   ],
   "source": [
    "threads = []\n",
    "i = 0\n",
    "while i < dataset.shape[0]:\n",
    "    threads.append(dataset[i:i+10000])\n",
    "    i = i + 10000\n",
    "\n",
    "cummulativeIndices = []\n",
    "\n",
    "for i in range(len(threads)):\n",
    "    indices = threads[i].index[threads[i]['frames'] > 35].tolist()\n",
    "    cummulativeIndices.extend(indices)\n",
    "\n",
    "# print(len(cummulativeIndices))\n",
    "cummulativeData = dataset.loc[cummulativeIndices]\n",
    "print(f\"Cummulative Dataset Shape: {cummulativeData.shape}\")\n"
   ]
  },
  {
   "cell_type": "code",
   "execution_count": 4,
   "id": "6bdeb2b3-1dde-448e-9b30-821edb54e26b",
   "metadata": {},
   "outputs": [
    {
     "data": {
      "text/html": [
       "<div>\n",
       "<style scoped>\n",
       "    .dataframe tbody tr th:only-of-type {\n",
       "        vertical-align: middle;\n",
       "    }\n",
       "\n",
       "    .dataframe tbody tr th {\n",
       "        vertical-align: top;\n",
       "    }\n",
       "\n",
       "    .dataframe thead th {\n",
       "        text-align: right;\n",
       "    }\n",
       "</style>\n",
       "<table border=\"1\" class=\"dataframe\">\n",
       "  <thead>\n",
       "    <tr style=\"text-align: right;\">\n",
       "      <th></th>\n",
       "      <th>url</th>\n",
       "      <th>caption</th>\n",
       "      <th>frames</th>\n",
       "    </tr>\n",
       "  </thead>\n",
       "  <tbody>\n",
       "    <tr>\n",
       "      <th>11</th>\n",
       "      <td>https://38.media.tumblr.com/88bd6013c943b41c93...</td>\n",
       "      <td>a man with lights on his jacket watching a lar...</td>\n",
       "      <td>36</td>\n",
       "    </tr>\n",
       "    <tr>\n",
       "      <th>15</th>\n",
       "      <td>https://38.media.tumblr.com/88976e0d8b0e068ebd...</td>\n",
       "      <td>the clouds are moving next to the full moon</td>\n",
       "      <td>38</td>\n",
       "    </tr>\n",
       "    <tr>\n",
       "      <th>34</th>\n",
       "      <td>https://38.media.tumblr.com/70f4c1fc63e69bafb2...</td>\n",
       "      <td>a girl in a football uniform is dancing and si...</td>\n",
       "      <td>38</td>\n",
       "    </tr>\n",
       "    <tr>\n",
       "      <th>40</th>\n",
       "      <td>https://38.media.tumblr.com/6fb91b85be51fd128b...</td>\n",
       "      <td>a man with longish hair laughs then puts his h...</td>\n",
       "      <td>36</td>\n",
       "    </tr>\n",
       "    <tr>\n",
       "      <th>56</th>\n",
       "      <td>https://38.media.tumblr.com/819a74539497ae1899...</td>\n",
       "      <td>a man are doing acrobatic stunts on the wing o...</td>\n",
       "      <td>37</td>\n",
       "    </tr>\n",
       "  </tbody>\n",
       "</table>\n",
       "</div>"
      ],
      "text/plain": [
       "                                                  url  \\\n",
       "11  https://38.media.tumblr.com/88bd6013c943b41c93...   \n",
       "15  https://38.media.tumblr.com/88976e0d8b0e068ebd...   \n",
       "34  https://38.media.tumblr.com/70f4c1fc63e69bafb2...   \n",
       "40  https://38.media.tumblr.com/6fb91b85be51fd128b...   \n",
       "56  https://38.media.tumblr.com/819a74539497ae1899...   \n",
       "\n",
       "                                              caption  frames  \n",
       "11  a man with lights on his jacket watching a lar...      36  \n",
       "15        the clouds are moving next to the full moon      38  \n",
       "34  a girl in a football uniform is dancing and si...      38  \n",
       "40  a man with longish hair laughs then puts his h...      36  \n",
       "56  a man are doing acrobatic stunts on the wing o...      37  "
      ]
     },
     "execution_count": 4,
     "metadata": {},
     "output_type": "execute_result"
    }
   ],
   "source": [
    "cummulativeData.head()"
   ]
  },
  {
   "cell_type": "code",
   "execution_count": 5,
   "id": "5dbaf505-7886-4dc6-857a-410bd4b1d841",
   "metadata": {},
   "outputs": [
    {
     "data": {
      "text/html": [
       "<div>\n",
       "<style scoped>\n",
       "    .dataframe tbody tr th:only-of-type {\n",
       "        vertical-align: middle;\n",
       "    }\n",
       "\n",
       "    .dataframe tbody tr th {\n",
       "        vertical-align: top;\n",
       "    }\n",
       "\n",
       "    .dataframe thead th {\n",
       "        text-align: right;\n",
       "    }\n",
       "</style>\n",
       "<table border=\"1\" class=\"dataframe\">\n",
       "  <thead>\n",
       "    <tr style=\"text-align: right;\">\n",
       "      <th></th>\n",
       "      <th>url</th>\n",
       "      <th>caption</th>\n",
       "      <th>frames</th>\n",
       "    </tr>\n",
       "  </thead>\n",
       "  <tbody>\n",
       "    <tr>\n",
       "      <th>0</th>\n",
       "      <td>https://38.media.tumblr.com/88bd6013c943b41c93...</td>\n",
       "      <td>a man with lights on his jacket watching a lar...</td>\n",
       "      <td>36</td>\n",
       "    </tr>\n",
       "    <tr>\n",
       "      <th>1</th>\n",
       "      <td>https://38.media.tumblr.com/88976e0d8b0e068ebd...</td>\n",
       "      <td>the clouds are moving next to the full moon</td>\n",
       "      <td>38</td>\n",
       "    </tr>\n",
       "    <tr>\n",
       "      <th>2</th>\n",
       "      <td>https://38.media.tumblr.com/70f4c1fc63e69bafb2...</td>\n",
       "      <td>a girl in a football uniform is dancing and si...</td>\n",
       "      <td>38</td>\n",
       "    </tr>\n",
       "    <tr>\n",
       "      <th>3</th>\n",
       "      <td>https://38.media.tumblr.com/6fb91b85be51fd128b...</td>\n",
       "      <td>a man with longish hair laughs then puts his h...</td>\n",
       "      <td>36</td>\n",
       "    </tr>\n",
       "    <tr>\n",
       "      <th>4</th>\n",
       "      <td>https://38.media.tumblr.com/819a74539497ae1899...</td>\n",
       "      <td>a man are doing acrobatic stunts on the wing o...</td>\n",
       "      <td>37</td>\n",
       "    </tr>\n",
       "  </tbody>\n",
       "</table>\n",
       "</div>"
      ],
      "text/plain": [
       "                                                 url  \\\n",
       "0  https://38.media.tumblr.com/88bd6013c943b41c93...   \n",
       "1  https://38.media.tumblr.com/88976e0d8b0e068ebd...   \n",
       "2  https://38.media.tumblr.com/70f4c1fc63e69bafb2...   \n",
       "3  https://38.media.tumblr.com/6fb91b85be51fd128b...   \n",
       "4  https://38.media.tumblr.com/819a74539497ae1899...   \n",
       "\n",
       "                                             caption  frames  \n",
       "0  a man with lights on his jacket watching a lar...      36  \n",
       "1        the clouds are moving next to the full moon      38  \n",
       "2  a girl in a football uniform is dancing and si...      38  \n",
       "3  a man with longish hair laughs then puts his h...      36  \n",
       "4  a man are doing acrobatic stunts on the wing o...      37  "
      ]
     },
     "execution_count": 5,
     "metadata": {},
     "output_type": "execute_result"
    }
   ],
   "source": [
    "cummulativeData = cummulativeData.reset_index(drop=True)\n",
    "cummulativeData.head()"
   ]
  },
  {
   "cell_type": "code",
   "execution_count": 6,
   "id": "92b6dfa7-c9ee-4159-b655-f6c0e9a798ab",
   "metadata": {},
   "outputs": [
    {
     "data": {
      "text/plain": [
       "True"
      ]
     },
     "execution_count": 6,
     "metadata": {},
     "output_type": "execute_result"
    }
   ],
   "source": [
    "GIFPATH = './data/cachedData'\n",
    "os.path.exists(GIFPATH)"
   ]
  },
  {
   "cell_type": "code",
   "execution_count": 7,
   "id": "9053ac55-56ec-4a2d-8914-813c060eb82b",
   "metadata": {},
   "outputs": [
    {
     "name": "stdout",
     "output_type": "stream",
     "text": [
      "1000 Files are completed\n",
      "2000 Files are completed\n",
      "3000 Files are completed\n",
      "4000 Files are completed\n",
      "5000 Files are completed\n",
      "6000 Files are completed\n",
      "7000 Files are completed\n",
      "8000 Files are completed\n",
      "9000 Files are completed\n",
      "10000 Files are completed\n",
      "Failed bhai at 10437: <urlopen error [Errno 110] Connection timed out>\n",
      "11000 Files are completed\n",
      "Failed bhai at 11875: <urlopen error [Errno 110] Connection timed out>\n",
      "12000 Files are completed\n",
      "13000 Files are completed\n"
     ]
    }
   ],
   "source": [
    "def saveFile(data, index):\n",
    "    os.makedirs(GIFPATH, exist_ok=True)\n",
    "\n",
    "    row = data.iloc[index]\n",
    "    url = row['url']\n",
    "    caption = row['caption']\n",
    "    totalframes = row['frames']\n",
    "\n",
    "    gif_path = os.path.join(GIFPATH, f'{index}.gif')\n",
    "    \n",
    "    if not os.path.exists(gif_path):\n",
    "        try:\n",
    "            resp = urllib.request.urlopen(url)\n",
    "            image_data = resp.read()\n",
    "            with open(gif_path, 'wb') as f:\n",
    "                f.write(image_data)\n",
    "        except Exception as e:\n",
    "            print(f\"Failed bhai at {index}: {e}\")\n",
    "    else:\n",
    "        pass\n",
    "        # try:\n",
    "        #     with open(gif_path, 'rb') as f:\n",
    "        #         image_data = f.read()\n",
    "        # except Exception as e:\n",
    "        #     print(f\"Failed bhai at reading {index}: {e}\")\n",
    "\n",
    "count = 0\n",
    "for i in range(cummulativeData.shape[0]):\n",
    "    # print(dataset.iloc[i])\n",
    "    saveFile(cummulativeData, i)\n",
    "    count += 1\n",
    "    if count % 1000 == 0:\n",
    "        print(f\"{count} Files are completed\")\n"
   ]
  },
  {
   "cell_type": "code",
   "execution_count": 8,
   "id": "47c5e738-63b6-4ef3-b5bd-c8c0f8e8dad4",
   "metadata": {},
   "outputs": [],
   "source": [
    "saveFile(cummulativeData, 10437)\n",
    "saveFile(cummulativeData, 11875)"
   ]
  },
  {
   "cell_type": "code",
   "execution_count": 10,
   "id": "741907d3-1e85-47b6-b984-4001665bc437",
   "metadata": {},
   "outputs": [
    {
     "data": {
      "text/plain": [
       "13104"
      ]
     },
     "execution_count": 10,
     "metadata": {},
     "output_type": "execute_result"
    }
   ],
   "source": [
    "len(os.listdir(GIFPATH))"
   ]
  },
  {
   "cell_type": "code",
   "execution_count": null,
   "id": "822f57df-eb99-458a-9dee-96c489b8516a",
   "metadata": {},
   "outputs": [],
   "source": []
  }
 ],
 "metadata": {
  "kernelspec": {
   "display_name": "pytorch_env",
   "language": "python",
   "name": "python3"
  },
  "language_info": {
   "codemirror_mode": {
    "name": "ipython",
    "version": 3
   },
   "file_extension": ".py",
   "mimetype": "text/x-python",
   "name": "python",
   "nbconvert_exporter": "python",
   "pygments_lexer": "ipython3",
   "version": "3.13.3"
  }
 },
 "nbformat": 4,
 "nbformat_minor": 5
}
